{
 "cells": [
  {
   "cell_type": "markdown",
   "metadata": {},
   "source": [
    "# Goal: Simple implementation of Keras program to recognise handwritten individual numbers from the images\n",
    "- Optical Character Recognition (OCR)\n",
    "\n",
    "#### input: images-minst dataset  consists of images of handwritten digits 0-9 of size 28 x 28 resolution\n",
    "#### output: reading the handwritten number \n",
    "#### logic: we are trying to read handwritten numbers from the images"
   ]
  },
  {
   "cell_type": "markdown",
   "metadata": {},
   "source": [
    "# STEPS IMPLEMENTED:\n",
    "1. importing data minst set\n",
    "2. Normalise input dataset\n",
    "3. Tilt some of the image to make our model more strong in prediction.\n",
    "4. Build a DL Model\n",
    "5. Evaluate the model\n",
    "6. save model and import it"
   ]
  },
  {
   "cell_type": "code",
   "execution_count": 47,
   "metadata": {
    "scrolled": true
   },
   "outputs": [
    {
     "name": "stdout",
     "output_type": "stream",
     "text": [
      "1.14.0\n"
     ]
    }
   ],
   "source": [
    "import tensorflow as tf       #import tensorflow\n",
    "print(tf.__version__)                #check which version of tenserflow we have downloaded:"
   ]
  },
  {
   "cell_type": "code",
   "execution_count": 2,
   "metadata": {
    "collapsed": true
   },
   "outputs": [],
   "source": [
    "#importing dataset\n",
    "mnist = tf.keras.datasets.mnist # consists of images of handwritten digits 0-9 of size 28 x 28 resolution"
   ]
  },
  {
   "cell_type": "code",
   "execution_count": 3,
   "metadata": {
    "collapsed": true
   },
   "outputs": [],
   "source": [
    "A =  tf.keras.datasets"
   ]
  },
  {
   "cell_type": "markdown",
   "metadata": {},
   "source": [
    "#Now we will feed the pixel values to the neural network and the neural network will o/p which number its"
   ]
  },
  {
   "cell_type": "code",
   "execution_count": 4,
   "metadata": {},
   "outputs": [],
   "source": [
    "#unpack dataset to train and test the model\n",
    "(x_train, y_train), (x_test, y_test) = mnist.load_data()"
   ]
  },
  {
   "cell_type": "code",
   "execution_count": 5,
   "metadata": {
    "scrolled": true
   },
   "outputs": [
    {
     "name": "stdout",
     "output_type": "stream",
     "text": [
      "train dataset: 60000 60000\n",
      "test dataset: 10000 10000\n"
     ]
    }
   ],
   "source": [
    "print('train dataset:',len(x_train), len(y_train))\n",
    "print('test dataset:',len(x_test), len(y_test))"
   ]
  },
  {
   "cell_type": "code",
   "execution_count": 6,
   "metadata": {
    "scrolled": true
   },
   "outputs": [
    {
     "data": {
      "text/plain": [
       "array([[  0,   0,   0,   0,   0,   0,   0,   0,   0,   0,   0,   0,   0,\n",
       "          0,   0,   0,   0,   0,   0,   0,   0,   0,   0,   0,   0,   0,\n",
       "          0,   0],\n",
       "       [  0,   0,   0,   0,   0,   0,   0,   0,   0,   0,   0,   0,   0,\n",
       "          0,   0,   0,   0,   0,   0,   0,   0,   0,   0,   0,   0,   0,\n",
       "          0,   0],\n",
       "       [  0,   0,   0,   0,   0,   0,   0,   0,   0,   0,   0,   0,   0,\n",
       "          0,   0,   0,   0,   0,   0,   0,   0,   0,   0,   0,   0,   0,\n",
       "          0,   0],\n",
       "       [  0,   0,   0,   0,   0,   0,   0,   0,   0,   0,   0,   0,   0,\n",
       "          0,   0,   0,   0,   0,   0,   0,   0,   0,   0,   0,   0,   0,\n",
       "          0,   0],\n",
       "       [  0,   0,   0,   0,   0,   0,   0,   0,   0,   0,  47, 160, 195,\n",
       "        205,  71,  86,  13,   0,   0,   0,   0,   0,   0,   0,   0,   0,\n",
       "          0,   0],\n",
       "       [  0,   0,   0,   0,   0,   0,   0,   0,   0,  12, 238, 254, 254,\n",
       "        254, 254, 254, 227,  84,   0,   0,   0,   0,   0,   0,   0,   0,\n",
       "          0,   0],\n",
       "       [  0,   0,   0,   0,   0,   0,   0,   0,   0,  13, 196, 176, 127,\n",
       "        176, 207, 236, 245, 222,  23,   0,   0,   0,   0,   0,   0,   0,\n",
       "          0,   0],\n",
       "       [  0,   0,   0,   0,   0,   0,   0,   0,   0,   0,   0,   0,   0,\n",
       "          0,   0,  20, 137, 254,  95,   0,   0,   0,   0,   0,   0,   0,\n",
       "          0,   0],\n",
       "       [  0,   0,   0,   0,   0,   0,   0,   0,   0,   0,   0,   0,   0,\n",
       "          0,   0,   0,  78, 254, 144,   0,   0,   0,   0,   0,   0,   0,\n",
       "          0,   0],\n",
       "       [  0,   0,   0,   0,   0,   0,   0,   0,   0,   0,   0,   0,   0,\n",
       "          0,   0,  17, 200, 254, 170,   0,   0,   0,   0,   0,   0,   0,\n",
       "          0,   0],\n",
       "       [  0,   0,   0,   0,   0,   0,   0,   0,   0,   0,   0,   0,   0,\n",
       "          0,  47, 218, 254, 216,  29,   0,   0,   0,   0,   0,   0,   0,\n",
       "          0,   0],\n",
       "       [  0,   0,   0,   0,   0,   0,   0,   0,   0,   0,   0,   0,   0,\n",
       "         95, 225, 254, 245,  65,   0,   0,   0,   0,   0,   0,   0,   0,\n",
       "          0,   0],\n",
       "       [  0,   0,   0,   0,   0,   0,   0,   0,   0,   0,   0,  12, 128,\n",
       "        252, 254, 236,  40,   0,   0,   0,   0,   0,   0,   0,   0,   0,\n",
       "          0,   0],\n",
       "       [  0,   0,   0,   0,   0,   0,   0,   0,   0,   0,   0, 172, 254,\n",
       "        254, 170,  58,   0,   0,   0,   0,   0,   0,   0,   0,   0,   0,\n",
       "          0,   0],\n",
       "       [  0,   0,   0,   0,   0,   0,   0,   0,   0,   0,   0, 207, 254,\n",
       "        254,  65,   0,   0,   0,   0,   0,   0,   0,   0,   0,   0,   0,\n",
       "          0,   0],\n",
       "       [  0,   0,   0,   0,   0,   0,   0,   0,   0,   0,   0, 137, 254,\n",
       "        254, 251, 146,  26,   0,   0,   0,   0,   0,   0,   0,   0,   0,\n",
       "          0,   0],\n",
       "       [  0,   0,   0,   0,   0,   0,   0,   0,   0,   0,   0,   9, 173,\n",
       "        224, 254, 254, 230,  71,   0,   0,   0,   0,   0,   0,   0,   0,\n",
       "          0,   0],\n",
       "       [  0,   0,   0,   0,   0,   0,   0,   0,   0,   0,   0,   0,   8,\n",
       "         12, 254, 254, 254, 246, 104,   0,   0,   0,   0,   0,   0,   0,\n",
       "          0,   0],\n",
       "       [  0,   0,   0,   0,   0,   0,   0,   0,   0,   0,   0,   0,   0,\n",
       "          0,  46, 189, 254, 254, 224,   0,   0,   0,   0,   0,   0,   0,\n",
       "          0,   0],\n",
       "       [  0,   0,   0,   0,   0,   0,   0,   0,   0,  10,   0,   0,   0,\n",
       "          0,   0,  17, 175, 254, 254,  25,   0,   0,   0,   0,   0,   0,\n",
       "          0,   0],\n",
       "       [  0,   0,   0,   0,   0,   0,   0,   0,  35, 231, 156, 112,  87,\n",
       "        186, 191, 218, 254, 254, 219,   0,   0,   0,   0,   0,   0,   0,\n",
       "          0,   0],\n",
       "       [  0,   0,   0,   0,   0,   0,   0,   0, 120, 255, 254, 254, 254,\n",
       "        254, 255, 254, 254, 242,  67,   0,   0,   0,   0,   0,   0,   0,\n",
       "          0,   0],\n",
       "       [  0,   0,   0,   0,   0,   0,   0,   0, 139, 255, 254, 254, 254,\n",
       "        254, 255, 171,  46,  24,   0,   0,   0,   0,   0,   0,   0,   0,\n",
       "          0,   0],\n",
       "       [  0,   0,   0,   0,   0,   0,   0,   0,   5,  71, 164, 189, 174,\n",
       "        174,  66,   4,   0,   0,   0,   0,   0,   0,   0,   0,   0,   0,\n",
       "          0,   0],\n",
       "       [  0,   0,   0,   0,   0,   0,   0,   0,   0,   0,   0,   0,   0,\n",
       "          0,   0,   0,   0,   0,   0,   0,   0,   0,   0,   0,   0,   0,\n",
       "          0,   0],\n",
       "       [  0,   0,   0,   0,   0,   0,   0,   0,   0,   0,   0,   0,   0,\n",
       "          0,   0,   0,   0,   0,   0,   0,   0,   0,   0,   0,   0,   0,\n",
       "          0,   0],\n",
       "       [  0,   0,   0,   0,   0,   0,   0,   0,   0,   0,   0,   0,   0,\n",
       "          0,   0,   0,   0,   0,   0,   0,   0,   0,   0,   0,   0,   0,\n",
       "          0,   0],\n",
       "       [  0,   0,   0,   0,   0,   0,   0,   0,   0,   0,   0,   0,   0,\n",
       "          0,   0,   0,   0,   0,   0,   0,   0,   0,   0,   0,   0,   0,\n",
       "          0,   0]], dtype=uint8)"
      ]
     },
     "execution_count": 6,
     "metadata": {},
     "output_type": "execute_result"
    }
   ],
   "source": [
    "x_train[50000] #an array or tensor  \n",
    "#pixel level representation of an image/a number. Its RGB. But how each pixel value is showing R, G and B?"
   ]
  },
  {
   "cell_type": "code",
   "execution_count": 7,
   "metadata": {},
   "outputs": [
    {
     "data": {
      "text/plain": [
       "(28, 28)"
      ]
     },
     "execution_count": 7,
     "metadata": {},
     "output_type": "execute_result"
    }
   ],
   "source": [
    "x_train[50000].shape  #i.e. 28 rows and on each row we have 28 pixels/columns"
   ]
  },
  {
   "cell_type": "code",
   "execution_count": 8,
   "metadata": {},
   "outputs": [
    {
     "data": {
      "text/plain": [
       "3"
      ]
     },
     "execution_count": 8,
     "metadata": {},
     "output_type": "execute_result"
    }
   ],
   "source": [
    "y_train[50000]"
   ]
  },
  {
   "cell_type": "code",
   "execution_count": 9,
   "metadata": {},
   "outputs": [
    {
     "data": {
      "text/plain": [
       "<matplotlib.image.AxesImage at 0x7f0cb3699e48>"
      ]
     },
     "execution_count": 9,
     "metadata": {},
     "output_type": "execute_result"
    },
    {
     "data": {
      "image/png": "[encoded data removed]",
      "text/plain": [
       "<matplotlib.figure.Figure at 0x7f0cb88193c8>"
      ]
     },
     "metadata": {},
     "output_type": "display_data"
    }
   ],
   "source": [
    "#Visualising the input number by printing it:\n",
    "import matplotlib.pyplot as plt\n",
    "%matplotlib inline\n",
    "\n",
    "plt.imshow(x_train[50000]) #it will print colourful image but original image is black and white"
   ]
  },
  {
   "cell_type": "code",
   "execution_count": 10,
   "metadata": {},
   "outputs": [
    {
     "data": {
      "text/plain": [
       "<matplotlib.image.AxesImage at 0x7f0cafda8e10>"
      ]
     },
     "execution_count": 10,
     "metadata": {},
     "output_type": "execute_result"
    },
    {
     "data": {
      "image/png": "[encoded data removed]",
      "text/plain": [
       "<matplotlib.figure.Figure at 0x7f0cb36708d0>"
      ]
     },
     "metadata": {},
     "output_type": "display_data"
    }
   ],
   "source": [
    "plt.imshow(x_train[50000], cmap = plt.cm.binary) #drawing original image"
   ]
  },
  {
   "cell_type": "markdown",
   "metadata": {},
   "source": [
    "#if we look at in x_train[50000] o/p array we find numbers ranging from 0 to 255. Therefore we will scale this data to normalise it"
   ]
  },
  {
   "cell_type": "markdown",
   "metadata": {},
   "source": [
    "# Normalise the data"
   ]
  },
  {
   "cell_type": "code",
   "execution_count": 11,
   "metadata": {
    "collapsed": true
   },
   "outputs": [],
   "source": [
    "x_train = tf.keras.utils.normalize(x_train, axis = 1)"
   ]
  },
  {
   "cell_type": "code",
   "execution_count": 12,
   "metadata": {},
   "outputs": [
    {
     "data": {
      "text/plain": [
       "array([[0.        , 0.        , 0.        , 0.        , 0.        ,\n",
       "        0.        , 0.        , 0.        , 0.        , 0.        ,\n",
       "        0.        , 0.        , 0.        , 0.        , 0.        ,\n",
       "        0.        , 0.        , 0.        , 0.        , 0.        ,\n",
       "        0.        , 0.        , 0.        , 0.        , 0.        ,\n",
       "        0.        , 0.        , 0.        ],\n",
       "       [0.        , 0.        , 0.        , 0.        , 0.        ,\n",
       "        0.        , 0.        , 0.        , 0.        , 0.        ,\n",
       "        0.        , 0.        , 0.        , 0.        , 0.        ,\n",
       "        0.        , 0.        , 0.        , 0.        , 0.        ,\n",
       "        0.        , 0.        , 0.        , 0.        , 0.        ,\n",
       "        0.        , 0.        , 0.        ],\n",
       "       [0.        , 0.        , 0.        , 0.        , 0.        ,\n",
       "        0.        , 0.        , 0.        , 0.        , 0.        ,\n",
       "        0.        , 0.        , 0.        , 0.        , 0.        ,\n",
       "        0.        , 0.        , 0.        , 0.        , 0.        ,\n",
       "        0.        , 0.        , 0.        , 0.        , 0.        ,\n",
       "        0.        , 0.        , 0.        ],\n",
       "       [0.        , 0.        , 0.        , 0.        , 0.        ,\n",
       "        0.        , 0.        , 0.        , 0.        , 0.        ,\n",
       "        0.        , 0.        , 0.        , 0.        , 0.        ,\n",
       "        0.        , 0.        , 0.        , 0.        , 0.        ,\n",
       "        0.        , 0.        , 0.        , 0.        , 0.        ,\n",
       "        0.        , 0.        , 0.        ],\n",
       "       [0.        , 0.        , 0.        , 0.        , 0.        ,\n",
       "        0.        , 0.        , 0.        , 0.        , 0.        ,\n",
       "        0.08921555, 0.25626551, 0.26900467, 0.25469907, 0.08959984,\n",
       "        0.10860421, 0.01616063, 0.        , 0.        , 0.        ,\n",
       "        0.        , 0.        , 0.        , 0.        , 0.        ,\n",
       "        0.        , 0.        , 0.        ],\n",
       "       [0.        , 0.        , 0.        , 0.        , 0.        ,\n",
       "        0.        , 0.        , 0.        , 0.        , 0.02761249,\n",
       "        0.45177234, 0.40682149, 0.35039583, 0.31557836, 0.32054027,\n",
       "        0.32076128, 0.28218949, 0.10676504, 0.        , 0.        ,\n",
       "        0.        , 0.        , 0.        , 0.        , 0.        ,\n",
       "        0.        , 0.        , 0.        ],\n",
       "       [0.        , 0.        , 0.        , 0.        , 0.        ,\n",
       "        0.        , 0.        , 0.        , 0.        , 0.02991353,\n",
       "        0.37204781, 0.28189206, 0.17519791, 0.21866847, 0.2612277 ,\n",
       "        0.29803017, 0.30456574, 0.28216474, 0.04714649, 0.        ,\n",
       "        0.        , 0.        , 0.        , 0.        , 0.        ,\n",
       "        0.        , 0.        , 0.        ],\n",
       "       [0.        , 0.        , 0.        , 0.        , 0.        ,\n",
       "        0.        , 0.        , 0.        , 0.        , 0.        ,\n",
       "        0.        , 0.        , 0.        , 0.        , 0.        ,\n",
       "        0.02525679, 0.17030819, 0.32283713, 0.19473551, 0.        ,\n",
       "        0.        , 0.        , 0.        , 0.        , 0.        ,\n",
       "        0.        , 0.        , 0.        ],\n",
       "       [0.        , 0.        , 0.        , 0.        , 0.        ,\n",
       "        0.        , 0.        , 0.        , 0.        , 0.        ,\n",
       "        0.        , 0.        , 0.        , 0.        , 0.        ,\n",
       "        0.        , 0.09696379, 0.32283713, 0.29517804, 0.        ,\n",
       "        0.        , 0.        , 0.        , 0.        , 0.        ,\n",
       "        0.        , 0.        , 0.        ],\n",
       "       [0.        , 0.        , 0.        , 0.        , 0.        ,\n",
       "        0.        , 0.        , 0.        , 0.        , 0.        ,\n",
       "        0.        , 0.        , 0.        , 0.        , 0.        ,\n",
       "        0.02146827, 0.2486251 , 0.32283713, 0.34847408, 0.        ,\n",
       "        0.        , 0.        , 0.        , 0.        , 0.        ,\n",
       "        0.        , 0.        , 0.        ],\n",
       "       [0.        , 0.        , 0.        , 0.        , 0.        ,\n",
       "        0.        , 0.        , 0.        , 0.        , 0.        ,\n",
       "        0.        , 0.        , 0.        , 0.        , 0.05931257,\n",
       "        0.27529905, 0.31575387, 0.27453866, 0.05944558, 0.        ,\n",
       "        0.        , 0.        , 0.        , 0.        , 0.        ,\n",
       "        0.        , 0.        , 0.        ],\n",
       "       [0.        , 0.        , 0.        , 0.        , 0.        ,\n",
       "        0.        , 0.        , 0.        , 0.        , 0.        ,\n",
       "        0.        , 0.        , 0.        , 0.11803128, 0.28394315,\n",
       "        0.32076128, 0.30456574, 0.0826158 , 0.        , 0.        ,\n",
       "        0.        , 0.        , 0.        , 0.        , 0.        ,\n",
       "        0.        , 0.        , 0.        ],\n",
       "       [0.        , 0.        , 0.        , 0.        , 0.        ,\n",
       "        0.        , 0.        , 0.        , 0.        , 0.        ,\n",
       "        0.        , 0.01921991, 0.17657743, 0.31309349, 0.32054027,\n",
       "        0.29803017, 0.04972502, 0.        , 0.        , 0.        ,\n",
       "        0.        , 0.        , 0.        , 0.        , 0.        ,\n",
       "        0.        , 0.        , 0.        ],\n",
       "       [0.        , 0.        , 0.        , 0.        , 0.        ,\n",
       "        0.        , 0.        , 0.        , 0.        , 0.        ,\n",
       "        0.        , 0.27548542, 0.35039583, 0.31557836, 0.21453483,\n",
       "        0.0732447 , 0.        , 0.        , 0.        , 0.        ,\n",
       "        0.        , 0.        , 0.        , 0.        , 0.        ,\n",
       "        0.        , 0.        , 0.        ],\n",
       "       [0.        , 0.        , 0.        , 0.        , 0.        ,\n",
       "        0.        , 0.        , 0.        , 0.        , 0.        ,\n",
       "        0.        , 0.3315435 , 0.35039583, 0.31557836, 0.08202802,\n",
       "        0.        , 0.        , 0.        , 0.        , 0.        ,\n",
       "        0.        , 0.        , 0.        , 0.        , 0.        ,\n",
       "        0.        , 0.        , 0.        ],\n",
       "       [0.        , 0.        , 0.        , 0.        , 0.        ,\n",
       "        0.        , 0.        , 0.        , 0.        , 0.        ,\n",
       "        0.        , 0.21942734, 0.35039583, 0.31557836, 0.31675436,\n",
       "        0.18437459, 0.03232126, 0.        , 0.        , 0.        ,\n",
       "        0.        , 0.        , 0.        , 0.        , 0.        ,\n",
       "        0.        , 0.        , 0.        ],\n",
       "       [0.        , 0.        , 0.        , 0.        , 0.        ,\n",
       "        0.        , 0.        , 0.        , 0.        , 0.        ,\n",
       "        0.        , 0.01441493, 0.23865543, 0.27830532, 0.32054027,\n",
       "        0.32076128, 0.28591886, 0.09024188, 0.        , 0.        ,\n",
       "        0.        , 0.        , 0.        , 0.        , 0.        ,\n",
       "        0.        , 0.        , 0.        ],\n",
       "       [0.        , 0.        , 0.        , 0.        , 0.        ,\n",
       "        0.        , 0.        , 0.        , 0.        , 0.        ,\n",
       "        0.        , 0.        , 0.01103609, 0.01490921, 0.32054027,\n",
       "        0.32076128, 0.31575387, 0.31266903, 0.21318414, 0.        ,\n",
       "        0.        , 0.        , 0.        , 0.        , 0.        ,\n",
       "        0.        , 0.        , 0.        ],\n",
       "       [0.        , 0.        , 0.        , 0.        , 0.        ,\n",
       "        0.        , 0.        , 0.        , 0.        , 0.        ,\n",
       "        0.        , 0.        , 0.        , 0.        , 0.0580506 ,\n",
       "        0.2386767 , 0.31575387, 0.32283713, 0.45916585, 0.        ,\n",
       "        0.        , 0.        , 0.        , 0.        , 0.        ,\n",
       "        0.        , 0.        , 0.        ],\n",
       "       [0.        , 0.        , 0.        , 0.        , 0.        ,\n",
       "        0.        , 0.        , 0.        , 0.        , 0.0230104 ,\n",
       "        0.        , 0.        , 0.        , 0.        , 0.        ,\n",
       "        0.02146827, 0.21754696, 0.32283713, 0.52066127, 1.        ,\n",
       "        0.        , 0.        , 0.        , 0.        , 0.        ,\n",
       "        0.        , 0.        , 0.        ],\n",
       "       [0.        , 0.        , 0.        , 0.        , 0.        ,\n",
       "        0.        , 0.        , 0.        , 0.18716042, 0.53154035,\n",
       "        0.29611969, 0.17938585, 0.12001747, 0.23109281, 0.24103619,\n",
       "        0.27529905, 0.31575387, 0.32283713, 0.44891661, 0.        ,\n",
       "        0.        , 0.        , 0.        , 0.        , 0.        ,\n",
       "        0.        , 0.        , 0.        ],\n",
       "       [0.        , 0.        , 0.        , 0.        , 0.        ,\n",
       "        0.        , 0.        , 0.        , 0.64169288, 0.58676532,\n",
       "        0.48214359, 0.40682149, 0.35039583, 0.31557836, 0.32180224,\n",
       "        0.32076128, 0.31575387, 0.30758498, 0.13733978, 0.        ,\n",
       "        0.        , 0.        , 0.        , 0.        , 0.        ,\n",
       "        0.        , 0.        , 0.        ],\n",
       "       [0.        , 0.        , 0.        , 0.        , 0.        ,\n",
       "        0.        , 0.        , 0.        , 0.74329425, 0.58676532,\n",
       "        0.48214359, 0.40682149, 0.35039583, 0.31557836, 0.32180224,\n",
       "        0.21594559, 0.05718377, 0.0305043 , 0.        , 0.        ,\n",
       "        0.        , 0.        , 0.        , 0.        , 0.        ,\n",
       "        0.        , 0.        , 0.        ],\n",
       "       [0.        , 0.        , 0.        , 0.        , 0.        ,\n",
       "        0.        , 0.        , 0.        , 0.0267372 , 0.16337387,\n",
       "        0.31130531, 0.30271363, 0.24003494, 0.2161836 , 0.08328999,\n",
       "        0.00505136, 0.        , 0.        , 0.        , 0.        ,\n",
       "        0.        , 0.        , 0.        , 0.        , 0.        ,\n",
       "        0.        , 0.        , 0.        ],\n",
       "       [0.        , 0.        , 0.        , 0.        , 0.        ,\n",
       "        0.        , 0.        , 0.        , 0.        , 0.        ,\n",
       "        0.        , 0.        , 0.        , 0.        , 0.        ,\n",
       "        0.        , 0.        , 0.        , 0.        , 0.        ,\n",
       "        0.        , 0.        , 0.        , 0.        , 0.        ,\n",
       "        0.        , 0.        , 0.        ],\n",
       "       [0.        , 0.        , 0.        , 0.        , 0.        ,\n",
       "        0.        , 0.        , 0.        , 0.        , 0.        ,\n",
       "        0.        , 0.        , 0.        , 0.        , 0.        ,\n",
       "        0.        , 0.        , 0.        , 0.        , 0.        ,\n",
       "        0.        , 0.        , 0.        , 0.        , 0.        ,\n",
       "        0.        , 0.        , 0.        ],\n",
       "       [0.        , 0.        , 0.        , 0.        , 0.        ,\n",
       "        0.        , 0.        , 0.        , 0.        , 0.        ,\n",
       "        0.        , 0.        , 0.        , 0.        , 0.        ,\n",
       "        0.        , 0.        , 0.        , 0.        , 0.        ,\n",
       "        0.        , 0.        , 0.        , 0.        , 0.        ,\n",
       "        0.        , 0.        , 0.        ],\n",
       "       [0.        , 0.        , 0.        , 0.        , 0.        ,\n",
       "        0.        , 0.        , 0.        , 0.        , 0.        ,\n",
       "        0.        , 0.        , 0.        , 0.        , 0.        ,\n",
       "        0.        , 0.        , 0.        , 0.        , 0.        ,\n",
       "        0.        , 0.        , 0.        , 0.        , 0.        ,\n",
       "        0.        , 0.        , 0.        ]])"
      ]
     },
     "execution_count": 12,
     "metadata": {},
     "output_type": "execute_result"
    }
   ],
   "source": [
    "x_train[50000] #Numbers after normalization ranging from 0 to 1"
   ]
  },
  {
   "cell_type": "code",
   "execution_count": 13,
   "metadata": {},
   "outputs": [
    {
     "data": {
      "text/plain": [
       "<matplotlib.image.AxesImage at 0x7f0cafd9a048>"
      ]
     },
     "execution_count": 13,
     "metadata": {},
     "output_type": "execute_result"
    },
    {
     "data": {
      "image/png": "[encoded data removed]",
      "text/plain": [
       "<matplotlib.figure.Figure at 0x7f0cafe07128>"
      ]
     },
     "metadata": {},
     "output_type": "display_data"
    }
   ],
   "source": [
    "plt.imshow(x_train[50000], cmap = plt.cm.binary) #drawing same number after normalization"
   ]
  },
  {
   "cell_type": "markdown",
   "metadata": {},
   "source": [
    "## We will tilt some of the input images to make our model more accurate\n",
    "- to know techniques to rotate ot tilt an image please refer this blog: https://limitlessdatascience.wordpress.com/2019/04/05/__trashed-2/"
   ]
  },
  {
   "cell_type": "code",
   "execution_count": 14,
   "metadata": {},
   "outputs": [],
   "source": [
    "import cv2\n",
    "import numpy as np\n",
    "image = x_train[50000]\n",
    "image_center = tuple(np.array(image.shape[1::-1]) / 2) # computing image center\n",
    "rot_mat = cv2.getRotationMatrix2D(image_center, 10, 1.0)\n",
    "result = cv2.warpAffine(image, rot_mat, image.shape[1::-1], flags=cv2.INTER_LINEAR)"
   ]
  },
  {
   "cell_type": "code",
   "execution_count": 15,
   "metadata": {},
   "outputs": [
    {
     "data": {
      "text/plain": [
       "<matplotlib.image.AxesImage at 0x7f0c910e2860>"
      ]
     },
     "execution_count": 15,
     "metadata": {},
     "output_type": "execute_result"
    },
    {
     "data": {
      "image/png": "[encoded data removed]",
      "text/plain": [
       "<matplotlib.figure.Figure at 0x7f0c9964a160>"
      ]
     },
     "metadata": {},
     "output_type": "display_data"
    }
   ],
   "source": [
    "plt.imshow(result, cmap = plt.cm.binary)"
   ]
  },
  {
   "cell_type": "code",
   "execution_count": 16,
   "metadata": {},
   "outputs": [],
   "source": [
    "i = 0\n",
    "j = 1    # angle of rotation from 1 to 9\n",
    "while i < 1000:\n",
    "    image = x_train[i]\n",
    "    image_center = tuple(np.array(image.shape[1::-1]) / 2) # computing image center\n",
    "    rot_mat = cv2.getRotationMatrix2D(image_center, j, 1.0)\n",
    "    result = cv2.warpAffine(image, rot_mat, image.shape[1::-1], flags=cv2.INTER_LINEAR)\n",
    "\n",
    "    x_train[i] = result\n",
    "    j = j + 1\n",
    "    if j == 10:\n",
    "        j = 1\n",
    "#        j = -10    #rotate in clock wise\n",
    "#    if j == 0:\n",
    "#        j = 1    #rotate in anti-clock wise\n",
    "    i = i + 10"
   ]
  },
  {
   "cell_type": "code",
   "execution_count": 17,
   "metadata": {
    "collapsed": true
   },
   "outputs": [],
   "source": [
    "x_test = tf.keras.utils.normalize(x_test, axis = 1)"
   ]
  },
  {
   "attachments": {
    "image.png": {
     "image/png": "[encoded data removed]"
    }
   },
   "cell_type": "markdown",
   "metadata": {},
   "source": [
    "# Building Model\n",
    "There are two types of model. We are going to use most common sequential model. It is the feedforward \n",
    "- A ** feedforward neural network ** is an artificial neural network wherein connections between the nodes do not form a cycle. As such, it is different from recurrent neural networks. \n",
    "- The feedforward neural network was the first and simplest type of artificial neural network devised.\n",
    "![image.png](attachment:image.png)\n",
    "- In a feed forward network information always moves one direction; it never goes backwards."
   ]
  },
  {
   "attachments": {
    "image.png": {
     "image/png": "[encoded data removed]"
    }
   },
   "cell_type": "markdown",
   "metadata": {},
   "source": [
    "## Defining Architecture of the Model: Experiment with new model\n",
    "![image.png](attachment:image.png)"
   ]
  },
  {
   "cell_type": "code",
   "execution_count": 18,
   "metadata": {},
   "outputs": [
    {
     "name": "stderr",
     "output_type": "stream",
     "text": [
      "WARNING: Logging before flag parsing goes to stderr.\n",
      "W0805 14:56:54.981708 139694049056576 deprecation.py:506] From /home/shraddha_sane/anaconda3/lib/python3.6/site-packages/tensorflow/python/ops/init_ops.py:1251: calling VarianceScaling.__init__ (from tensorflow.python.ops.init_ops) with dtype is deprecated and will be removed in a future version.\n",
      "Instructions for updating:\n",
      "Call initializer instance with the dtype argument instead of passing it to the constructor\n"
     ]
    }
   ],
   "source": [
    "import warnings\n",
    "warnings.filterwarnings(\"ignore\", message=\"Numerical issues were encountered \")\n",
    "model = tf.keras.models.Sequential()\n",
    "\n",
    "# Adding 1st Layer: Input Layer\n",
    "# Now we look at the input its multi dimentional 28 x 28 and for our example we will make it flat \n",
    "model.add(tf.keras.layers.Flatten(input_shape=(28,28)))  #its Flatten layer \n",
    "\n",
    "#NOTE THAT defining input_shape is very important. We need to provide it to the model if not given its not going to show any error but it will show error at the time saving and loading the model\n",
    "\n",
    "# Adding 2nd Layer: Hidden Layer\n",
    "model.add(tf.keras.layers.Dense(128, activation=tf.nn.relu))   \n",
    "#Neurons in a layer: 128 , activation function make neuron fire/activate for a certain condition. relu: rectified linear\n",
    "#we can change it to other activation function to see the results\n",
    "\n"
   ]
  },
  {
   "cell_type": "code",
   "execution_count": 19,
   "metadata": {
    "collapsed": true
   },
   "outputs": [],
   "source": [
    "# Layer 3: \n",
    "model.add(tf.keras.layers.Dense(10, activation=tf.nn.softmax)) "
   ]
  },
  {
   "cell_type": "code",
   "execution_count": 20,
   "metadata": {
    "collapsed": true
   },
   "outputs": [],
   "source": [
    "\n",
    "# Adding 4th Layer: 2nd Hidden Layer\n",
    "model.add(tf.keras.layers.Dense(128, activation=tf.nn.relu)) \n",
    "\n",
    "# Adding 5th Layer: Output Layer\n",
    "#Since we are going to use classification hence number of neurons will be equal to number of classes/groups we want here its 0-9\n",
    "#also activation function we want as probability distribution hence we will use softmax\n",
    "model.add(tf.keras.layers.Dense(10, activation=tf.nn.softmax)) "
   ]
  },
  {
   "cell_type": "code",
   "execution_count": 21,
   "metadata": {},
   "outputs": [
    {
     "name": "stdout",
     "output_type": "stream",
     "text": [
      "Model: \"sequential\"\n",
      "_________________________________________________________________\n",
      "Layer (type)                 Output Shape              Param #   \n",
      "=================================================================\n",
      "flatten (Flatten)            (None, 784)               0         \n",
      "_________________________________________________________________\n",
      "dense (Dense)                (None, 128)               100480    \n",
      "_________________________________________________________________\n",
      "dense_1 (Dense)              (None, 10)                1290      \n",
      "_________________________________________________________________\n",
      "dense_2 (Dense)              (None, 128)               1408      \n",
      "_________________________________________________________________\n",
      "dense_3 (Dense)              (None, 10)                1290      \n",
      "=================================================================\n",
      "Total params: 104,468\n",
      "Trainable params: 104,468\n",
      "Non-trainable params: 0\n",
      "_________________________________________________________________\n"
     ]
    }
   ],
   "source": [
    "model.summary()"
   ]
  },
  {
   "cell_type": "markdown",
   "metadata": {},
   "source": [
    "## Define parameters in compile for training our model & Training the model"
   ]
  },
  {
   "cell_type": "code",
   "execution_count": 22,
   "metadata": {
    "scrolled": true
   },
   "outputs": [
    {
     "name": "stdout",
     "output_type": "stream",
     "text": [
      "Epoch 1/100\n",
      "60000/60000 [==============================] - 4s 74us/sample - loss: 0.5165 - acc: 0.8494\n",
      "Epoch 2/100\n",
      "60000/60000 [==============================] - 4s 65us/sample - loss: 0.1672 - acc: 0.9545\n",
      "Epoch 3/100\n",
      "60000/60000 [==============================] - 4s 72us/sample - loss: 0.1135 - acc: 0.9677\n",
      "Epoch 4/100\n",
      "60000/60000 [==============================] - 4s 74us/sample - loss: 0.0840 - acc: 0.9756\n",
      "Epoch 5/100\n",
      "60000/60000 [==============================] - 4s 67us/sample - loss: 0.0667 - acc: 0.9801\n",
      "Epoch 6/100\n",
      "60000/60000 [==============================] - 4s 61us/sample - loss: 0.0506 - acc: 0.9853\n",
      "Epoch 7/100\n",
      "60000/60000 [==============================] - 4s 61us/sample - loss: 0.0414 - acc: 0.9876\n",
      "Epoch 8/100\n",
      "60000/60000 [==============================] - 4s 61us/sample - loss: 0.0346 - acc: 0.9898\n",
      "Epoch 9/100\n",
      "60000/60000 [==============================] - 4s 61us/sample - loss: 0.0285 - acc: 0.9911\n",
      "Epoch 10/100\n",
      "60000/60000 [==============================] - 4s 61us/sample - loss: 0.0247 - acc: 0.9925\n",
      "Epoch 11/100\n",
      "60000/60000 [==============================] - 4s 63us/sample - loss: 0.0225 - acc: 0.9931\n",
      "Epoch 12/100\n",
      "60000/60000 [==============================] - 4s 62us/sample - loss: 0.0184 - acc: 0.9943\n",
      "Epoch 13/100\n",
      "60000/60000 [==============================] - 4s 64us/sample - loss: 0.0168 - acc: 0.9947\n",
      "Epoch 14/100\n",
      "60000/60000 [==============================] - 4s 73us/sample - loss: 0.0173 - acc: 0.9946\n",
      "Epoch 15/100\n",
      "60000/60000 [==============================] - 4s 64us/sample - loss: 0.0137 - acc: 0.9960\n",
      "Epoch 16/100\n",
      "60000/60000 [==============================] - 4s 63us/sample - loss: 0.0136 - acc: 0.9961\n",
      "Epoch 17/100\n",
      "60000/60000 [==============================] - 4s 63us/sample - loss: 0.0139 - acc: 0.9955\n",
      "Epoch 18/100\n",
      "60000/60000 [==============================] - 4s 62us/sample - loss: 0.0123 - acc: 0.9962\n",
      "Epoch 19/100\n",
      "60000/60000 [==============================] - 4s 64us/sample - loss: 0.0111 - acc: 0.9966\n",
      "Epoch 20/100\n",
      "60000/60000 [==============================] - 4s 65us/sample - loss: 0.0110 - acc: 0.9965\n",
      "Epoch 21/100\n",
      "60000/60000 [==============================] - 4s 65us/sample - loss: 0.0104 - acc: 0.9966\n",
      "Epoch 22/100\n",
      "60000/60000 [==============================] - 4s 64us/sample - loss: 0.0099 - acc: 0.9969\n",
      "Epoch 23/100\n",
      "60000/60000 [==============================] - 4s 62us/sample - loss: 0.0105 - acc: 0.9965\n",
      "Epoch 24/100\n",
      "60000/60000 [==============================] - 4s 62us/sample - loss: 0.0089 - acc: 0.9973\n",
      "Epoch 25/100\n",
      "60000/60000 [==============================] - 4s 63us/sample - loss: 0.0088 - acc: 0.9974\n",
      "Epoch 26/100\n",
      "60000/60000 [==============================] - 4s 62us/sample - loss: 0.0097 - acc: 0.9970\n",
      "Epoch 27/100\n",
      "60000/60000 [==============================] - 4s 63us/sample - loss: 0.0086 - acc: 0.9974\n",
      "Epoch 28/100\n",
      "60000/60000 [==============================] - 4s 65us/sample - loss: 0.0078 - acc: 0.9976\n",
      "Epoch 29/100\n",
      "60000/60000 [==============================] - 4s 64us/sample - loss: 0.0086 - acc: 0.9974\n",
      "Epoch 30/100\n",
      "60000/60000 [==============================] - 4s 61us/sample - loss: 0.0072 - acc: 0.9977\n",
      "Epoch 31/100\n",
      "60000/60000 [==============================] - 4s 62us/sample - loss: 0.0082 - acc: 0.9975\n",
      "Epoch 32/100\n",
      "60000/60000 [==============================] - 4s 63us/sample - loss: 0.0077 - acc: 0.9977\n",
      "Epoch 33/100\n",
      "60000/60000 [==============================] - 4s 65us/sample - loss: 0.0066 - acc: 0.9979\n",
      "Epoch 34/100\n",
      "60000/60000 [==============================] - 4s 64us/sample - loss: 0.0070 - acc: 0.9980\n",
      "Epoch 35/100\n",
      "60000/60000 [==============================] - 4s 65us/sample - loss: 0.0051 - acc: 0.9985\n",
      "Epoch 36/100\n",
      "60000/60000 [==============================] - 4s 63us/sample - loss: 0.0071 - acc: 0.9977\n",
      "Epoch 37/100\n",
      "60000/60000 [==============================] - 4s 63us/sample - loss: 0.0063 - acc: 0.9983\n",
      "Epoch 38/100\n",
      "60000/60000 [==============================] - 4s 64us/sample - loss: 0.0067 - acc: 0.9978\n",
      "Epoch 39/100\n",
      "60000/60000 [==============================] - 4s 63us/sample - loss: 0.0059 - acc: 0.9982\n",
      "Epoch 40/100\n",
      "60000/60000 [==============================] - 4s 63us/sample - loss: 0.0057 - acc: 0.9984\n",
      "Epoch 41/100\n",
      "60000/60000 [==============================] - 4s 63us/sample - loss: 0.0058 - acc: 0.9984\n",
      "Epoch 42/100\n",
      "60000/60000 [==============================] - 4s 63us/sample - loss: 0.0050 - acc: 0.9984\n",
      "Epoch 43/100\n",
      "60000/60000 [==============================] - 4s 64us/sample - loss: 0.0044 - acc: 0.9988\n",
      "Epoch 44/100\n",
      "60000/60000 [==============================] - 4s 63us/sample - loss: 0.0051 - acc: 0.9983\n",
      "Epoch 45/100\n",
      "60000/60000 [==============================] - 4s 62us/sample - loss: 0.0062 - acc: 0.9983\n",
      "Epoch 46/100\n",
      "60000/60000 [==============================] - 4s 64us/sample - loss: 0.0044 - acc: 0.9986\n",
      "Epoch 47/100\n",
      "60000/60000 [==============================] - 4s 64us/sample - loss: 0.0057 - acc: 0.9983\n",
      "Epoch 48/100\n",
      "60000/60000 [==============================] - 4s 63us/sample - loss: 0.0036 - acc: 0.9990\n",
      "Epoch 49/100\n",
      "60000/60000 [==============================] - 4s 65us/sample - loss: 0.0044 - acc: 0.9988\n",
      "Epoch 50/100\n",
      "60000/60000 [==============================] - 4s 65us/sample - loss: 0.0051 - acc: 0.9984\n",
      "Epoch 51/100\n",
      "60000/60000 [==============================] - 4s 64us/sample - loss: 0.0037 - acc: 0.9988\n",
      "Epoch 52/100\n",
      "60000/60000 [==============================] - 4s 64us/sample - loss: 0.0055 - acc: 0.9983\n",
      "Epoch 53/100\n",
      "60000/60000 [==============================] - 4s 64us/sample - loss: 0.0051 - acc: 0.9984\n",
      "Epoch 54/100\n",
      "60000/60000 [==============================] - 4s 63us/sample - loss: 0.0051 - acc: 0.9988\n",
      "Epoch 55/100\n",
      "60000/60000 [==============================] - 4s 63us/sample - loss: 0.0042 - acc: 0.9987\n",
      "Epoch 56/100\n",
      "60000/60000 [==============================] - 4s 65us/sample - loss: 0.0038 - acc: 0.9990\n",
      "Epoch 57/100\n",
      "60000/60000 [==============================] - 4s 66us/sample - loss: 0.0034 - acc: 0.9990\n",
      "Epoch 58/100\n",
      "60000/60000 [==============================] - 4s 64us/sample - loss: 0.0042 - acc: 0.9987\n",
      "Epoch 59/100\n",
      "60000/60000 [==============================] - 4s 65us/sample - loss: 0.0041 - acc: 0.9988\n",
      "Epoch 60/100\n",
      "60000/60000 [==============================] - 4s 64us/sample - loss: 0.0041 - acc: 0.9987\n",
      "Epoch 61/100\n",
      "60000/60000 [==============================] - 4s 64us/sample - loss: 0.0040 - acc: 0.9989\n",
      "Epoch 62/100\n",
      "60000/60000 [==============================] - 4s 64us/sample - loss: 0.0039 - acc: 0.9989\n",
      "Epoch 63/100\n",
      "60000/60000 [==============================] - 4s 67us/sample - loss: 0.0041 - acc: 0.9989\n",
      "Epoch 64/100\n",
      "60000/60000 [==============================] - 4s 65us/sample - loss: 0.0033 - acc: 0.9989\n",
      "Epoch 65/100\n",
      "60000/60000 [==============================] - 4s 65us/sample - loss: 0.0036 - acc: 0.9991\n",
      "Epoch 66/100\n",
      "60000/60000 [==============================] - 4s 64us/sample - loss: 0.0054 - acc: 0.9984\n",
      "Epoch 67/100\n",
      "60000/60000 [==============================] - 4s 62us/sample - loss: 0.0029 - acc: 0.9990\n",
      "Epoch 68/100\n",
      "60000/60000 [==============================] - 4s 63us/sample - loss: 0.0025 - acc: 0.9992\n",
      "Epoch 69/100\n",
      "60000/60000 [==============================] - 4s 64us/sample - loss: 0.0033 - acc: 0.9989\n",
      "Epoch 70/100\n",
      "60000/60000 [==============================] - 4s 64us/sample - loss: 0.0034 - acc: 0.9990\n",
      "Epoch 71/100\n",
      "60000/60000 [==============================] - 4s 63us/sample - loss: 0.0027 - acc: 0.9993\n",
      "Epoch 72/100\n",
      "60000/60000 [==============================] - 4s 64us/sample - loss: 0.0031 - acc: 0.9991\n",
      "Epoch 73/100\n",
      "60000/60000 [==============================] - 4s 62us/sample - loss: 0.0046 - acc: 0.9988\n",
      "Epoch 74/100\n",
      "60000/60000 [==============================] - 4s 63us/sample - loss: 0.0019 - acc: 0.9996\n",
      "Epoch 75/100\n",
      "60000/60000 [==============================] - 4s 63us/sample - loss: 0.0038 - acc: 0.9988\n",
      "Epoch 76/100\n",
      "60000/60000 [==============================] - 4s 61us/sample - loss: 0.0035 - acc: 0.9991\n",
      "Epoch 77/100\n",
      "60000/60000 [==============================] - 4s 62us/sample - loss: 0.0027 - acc: 0.9993\n",
      "Epoch 78/100\n",
      "60000/60000 [==============================] - 4s 62us/sample - loss: 0.0027 - acc: 0.9992\n",
      "Epoch 79/100\n"
     ]
    },
    {
     "name": "stdout",
     "output_type": "stream",
     "text": [
      "60000/60000 [==============================] - 4s 62us/sample - loss: 0.0016 - acc: 0.9995\n",
      "Epoch 80/100\n",
      "60000/60000 [==============================] - 4s 63us/sample - loss: 0.0046 - acc: 0.9986\n",
      "Epoch 81/100\n",
      "60000/60000 [==============================] - 4s 63us/sample - loss: 5.1361e-04 - acc: 0.9999\n",
      "Epoch 82/100\n",
      "60000/60000 [==============================] - 4s 62us/sample - loss: 0.0048 - acc: 0.9986\n",
      "Epoch 83/100\n",
      "60000/60000 [==============================] - 4s 63us/sample - loss: 0.0016 - acc: 0.9995\n",
      "Epoch 84/100\n",
      "60000/60000 [==============================] - 4s 67us/sample - loss: 0.0029 - acc: 0.9992\n",
      "Epoch 85/100\n",
      "60000/60000 [==============================] - 4s 73us/sample - loss: 0.0031 - acc: 0.9991\n",
      "Epoch 86/100\n",
      "60000/60000 [==============================] - 4s 72us/sample - loss: 0.0028 - acc: 0.9993\n",
      "Epoch 87/100\n",
      "60000/60000 [==============================] - 4s 62us/sample - loss: 0.0026 - acc: 0.9995\n",
      "Epoch 88/100\n",
      "60000/60000 [==============================] - 4s 61us/sample - loss: 0.0036 - acc: 0.9990\n",
      "Epoch 89/100\n",
      "60000/60000 [==============================] - 4s 62us/sample - loss: 0.0025 - acc: 0.9992\n",
      "Epoch 90/100\n",
      "60000/60000 [==============================] - 4s 63us/sample - loss: 0.0023 - acc: 0.9995\n",
      "Epoch 91/100\n",
      "60000/60000 [==============================] - 4s 63us/sample - loss: 0.0026 - acc: 0.9993\n",
      "Epoch 92/100\n",
      "60000/60000 [==============================] - 4s 62us/sample - loss: 0.0025 - acc: 0.9995\n",
      "Epoch 93/100\n",
      "60000/60000 [==============================] - 4s 63us/sample - loss: 0.0033 - acc: 0.9990\n",
      "Epoch 94/100\n",
      "60000/60000 [==============================] - 4s 72us/sample - loss: 0.0023 - acc: 0.9993\n",
      "Epoch 95/100\n",
      "60000/60000 [==============================] - 4s 65us/sample - loss: 0.0028 - acc: 0.9992\n",
      "Epoch 96/100\n",
      "60000/60000 [==============================] - 4s 63us/sample - loss: 0.0037 - acc: 0.9990\n",
      "Epoch 97/100\n",
      "60000/60000 [==============================] - 4s 62us/sample - loss: 0.0017 - acc: 0.9994\n",
      "Epoch 98/100\n",
      "60000/60000 [==============================] - 4s 63us/sample - loss: 0.0022 - acc: 0.9994\n",
      "Epoch 99/100\n",
      "60000/60000 [==============================] - 4s 63us/sample - loss: 0.0036 - acc: 0.9987\n",
      "Epoch 100/100\n",
      "60000/60000 [==============================] - 4s 62us/sample - loss: 0.0020 - acc: 0.9994\n",
      "CPU times: user 11min 22s, sys: 1min 6s, total: 12min 28s\n",
      "Wall time: 6min 24s\n"
     ]
    },
    {
     "data": {
      "text/plain": [
       "<tensorflow.python.keras.callbacks.History at 0x7f0cb59f6dd8>"
      ]
     },
     "execution_count": 22,
     "metadata": {},
     "output_type": "execute_result"
    }
   ],
   "source": [
    "#pass optimiser, loss matrix: loss is the degree of error. Note that Neural Network always try to minimise the loss. Therefore the way we calculate the error makes huge impact because its whats the loss's relationship to your accuracy of Model \n",
    "#there are different optimizers in keras we are going to use adam \n",
    "#In loss we can use binary if its Cat Vs Dog type classification. Here we have multiple 0-9 hence we will use following\n",
    "#also mentioning what metrix we want to track: \n",
    "model.compile(optimizer= 'adam',\n",
    "             loss='sparse_categorical_crossentropy',\n",
    "             metrics = ['accuracy'])\n",
    "#we will train our model now\n",
    "%time model.fit(x_train, y_train, epochs  = 100)"
   ]
  },
  {
   "cell_type": "markdown",
   "metadata": {},
   "source": [
    "#In training we achieved accuracy = 0.9773 and loss = 0.0735"
   ]
  },
  {
   "cell_type": "markdown",
   "metadata": {},
   "source": [
    "# Now we will evaluate \n",
    "(always check whther our model is overfitting or not)"
   ]
  },
  {
   "cell_type": "code",
   "execution_count": 23,
   "metadata": {},
   "outputs": [
    {
     "name": "stdout",
     "output_type": "stream",
     "text": [
      "10000/10000 [==============================] - 0s 36us/sample - loss: 0.2115 - acc: 0.9741\n",
      "0.21150368001153694 0.9741\n"
     ]
    }
   ],
   "source": [
    "val_loss, val_acc = model.evaluate(x_test, y_test)\n",
    "print(val_loss, val_acc)"
   ]
  },
  {
   "cell_type": "markdown",
   "metadata": {},
   "source": [
    "# Identify the number for Test sample 1"
   ]
  },
  {
   "cell_type": "code",
   "execution_count": 24,
   "metadata": {},
   "outputs": [
    {
     "data": {
      "text/plain": [
       "<matplotlib.image.AxesImage at 0x7f0cb566e748>"
      ]
     },
     "execution_count": 24,
     "metadata": {},
     "output_type": "execute_result"
    },
    {
     "data": {
      "image/png": "[encoded data removed]",
      "text/plain": [
       "<matplotlib.figure.Figure at 0x7f0cb5acd0f0>"
      ]
     },
     "metadata": {},
     "output_type": "display_data"
    }
   ],
   "source": [
    "import cv2\n",
    "image = cv2.imread('9.png')\n",
    "plt.close()\n",
    "plt.imshow(image)"
   ]
  },
  {
   "cell_type": "code",
   "execution_count": 25,
   "metadata": {},
   "outputs": [
    {
     "data": {
      "text/plain": [
       "(84, 60, 3)"
      ]
     },
     "execution_count": 25,
     "metadata": {},
     "output_type": "execute_result"
    }
   ],
   "source": [
    "image.shape   #but out model takes input as 28 x 28 images only. Hence downscale the sample image"
   ]
  },
  {
   "cell_type": "code",
   "execution_count": 26,
   "metadata": {},
   "outputs": [
    {
     "data": {
      "text/plain": [
       "(84, 60)"
      ]
     },
     "execution_count": 26,
     "metadata": {},
     "output_type": "execute_result"
    }
   ],
   "source": [
    "image = cv2.cvtColor(image, cv2.COLOR_BGR2GRAY)  #Or directly convert convering BGR to GRAY\n",
    "image.shape  # became 1 channel i.e. Gray image"
   ]
  },
  {
   "cell_type": "code",
   "execution_count": 27,
   "metadata": {
    "collapsed": true
   },
   "outputs": [],
   "source": [
    "basewidth = 28\n",
    "hsize = 28\n",
    "dim = (basewidth, hsize)"
   ]
  },
  {
   "cell_type": "code",
   "execution_count": 28,
   "metadata": {},
   "outputs": [],
   "source": [
    "DownImage = cv2.resize(image, dim, interpolation = cv2.INTER_AREA)"
   ]
  },
  {
   "cell_type": "code",
   "execution_count": 29,
   "metadata": {},
   "outputs": [
    {
     "data": {
      "text/plain": [
       "(28, 28)"
      ]
     },
     "execution_count": 29,
     "metadata": {},
     "output_type": "execute_result"
    }
   ],
   "source": [
    "DownImage.shape"
   ]
  },
  {
   "cell_type": "code",
   "execution_count": 30,
   "metadata": {},
   "outputs": [],
   "source": [
    "DownImage = DownImage.reshape(1, 28,28)  #this step is important otherwise you will get an error at the time of prediction"
   ]
  },
  {
   "cell_type": "code",
   "execution_count": 31,
   "metadata": {
    "collapsed": true
   },
   "outputs": [],
   "source": [
    "import numpy as np"
   ]
  },
  {
   "cell_type": "code",
   "execution_count": 32,
   "metadata": {
    "scrolled": true
   },
   "outputs": [
    {
     "data": {
      "text/plain": [
       "3"
      ]
     },
     "execution_count": 32,
     "metadata": {},
     "output_type": "execute_result"
    }
   ],
   "source": [
    "np.argsort(model.predict(DownImage))[0][0]   # highest probability index is the output number"
   ]
  },
  {
   "cell_type": "code",
   "execution_count": 33,
   "metadata": {},
   "outputs": [
    {
     "data": {
      "image/png": "[encoded data removed]",
      "text/plain": [
       "<matplotlib.figure.Figure at 0x7f0c9109b048>"
      ]
     },
     "metadata": {},
     "output_type": "display_data"
    }
   ],
   "source": [
    "image = cv2.imread('8.png')\n",
    "plt.close()\n",
    "plt.imshow(image)\n",
    "image = cv2.cvtColor(image, cv2.COLOR_BGR2GRAY) \n",
    "basewidth = 28\n",
    "hsize = 28\n",
    "dim = (basewidth, hsize)\n",
    "DownImage = cv2.resize(image, dim, interpolation = cv2.INTER_AREA)\n",
    "DownImage = DownImage.reshape(1, 28,28)"
   ]
  },
  {
   "cell_type": "code",
   "execution_count": 46,
   "metadata": {},
   "outputs": [
    {
     "data": {
      "text/plain": [
       "array([3, 7, 9, 5, 1, 8, 2, 0, 4, 6])"
      ]
     },
     "execution_count": 46,
     "metadata": {},
     "output_type": "execute_result"
    }
   ],
   "source": [
    "np.argsort(model.predict(DownImage))[0]   # highest probability index is the output number"
   ]
  },
  {
   "cell_type": "markdown",
   "metadata": {},
   "source": [
    "##### OBSERVATION: In training we achieved accuracy = 0.9726 ~ training accuracy (0.9773) and loss = 0.0872 > training_loss (0.0735) Since difference is not too much hence its not overfitting"
   ]
  },
  {
   "cell_type": "markdown",
   "metadata": {},
   "source": [
    "# Now we will save the model\n",
    "- we can import the model and use it later "
   ]
  },
  {
   "cell_type": "markdown",
   "metadata": {},
   "source": [
    "!pwd #current directory path"
   ]
  },
  {
   "cell_type": "code",
   "execution_count": 35,
   "metadata": {
    "collapsed": true
   },
   "outputs": [],
   "source": [
    "PathToSave = \"./\""
   ]
  },
  {
   "cell_type": "markdown",
   "metadata": {},
   "source": [
    "#### Saving and loading is not working properly reasons:\n",
    "#1. in the input layer we have to mention input shape"
   ]
  },
  {
   "cell_type": "code",
   "execution_count": null,
   "metadata": {
    "collapsed": true
   },
   "outputs": [],
   "source": [
    "tf.keras.models.save_model(\n",
    "    model,\n",
    "    PathToSave+\"Handwritten_number_reader.model\",\n",
    "    overwrite=True,\n",
    "    include_optimizer=True\n",
    ")"
   ]
  },
  {
   "cell_type": "code",
   "execution_count": null,
   "metadata": {
    "collapsed": true
   },
   "outputs": [],
   "source": [
    "model.save(PathToSave+'Handwritten_number_reader.model') #Or use this line of code to save the model"
   ]
  },
  {
   "cell_type": "code",
   "execution_count": 38,
   "metadata": {
    "collapsed": true
   },
   "outputs": [],
   "source": [
    "del model  # deletes the existing model"
   ]
  },
  {
   "cell_type": "markdown",
   "metadata": {},
   "source": [
    "# Reload the model and test it again"
   ]
  },
  {
   "cell_type": "code",
   "execution_count": 44,
   "metadata": {
    "scrolled": true
   },
   "outputs": [],
   "source": [
    "from keras.models import load_model\n",
    "model2 = tf.keras.models.load_model(PathToSave+\"Handwritten_number_reader.model\")"
   ]
  },
  {
   "cell_type": "code",
   "execution_count": 45,
   "metadata": {},
   "outputs": [
    {
     "name": "stdout",
     "output_type": "stream",
     "text": [
      "Model: \"sequential\"\n",
      "_________________________________________________________________\n",
      "Layer (type)                 Output Shape              Param #   \n",
      "=================================================================\n",
      "flatten (Flatten)            (None, 784)               0         \n",
      "_________________________________________________________________\n",
      "dense (Dense)                (None, 128)               100480    \n",
      "_________________________________________________________________\n",
      "dense_1 (Dense)              (None, 10)                1290      \n",
      "_________________________________________________________________\n",
      "dense_2 (Dense)              (None, 128)               1408      \n",
      "_________________________________________________________________\n",
      "dense_3 (Dense)              (None, 10)                1290      \n",
      "=================================================================\n",
      "Total params: 104,468\n",
      "Trainable params: 104,468\n",
      "Non-trainable params: 0\n",
      "_________________________________________________________________\n"
     ]
    }
   ],
   "source": [
    "model2.summary()"
   ]
  },
  {
   "cell_type": "code",
   "execution_count": 41,
   "metadata": {},
   "outputs": [
    {
     "name": "stdout",
     "output_type": "stream",
     "text": [
      "10000/10000 [==============================] - 0s 39us/sample - loss: 0.2147 - acc: 0.9749\n",
      "0.21467585878383835 0.9749\n"
     ]
    }
   ],
   "source": [
    "val_loss, val_acc = model2.evaluate(x_test, y_test)\n",
    "print(val_loss, val_acc)"
   ]
  },
  {
   "cell_type": "code",
   "execution_count": 42,
   "metadata": {
    "collapsed": true
   },
   "outputs": [],
   "source": [
    "del model2  # deletes the existing model"
   ]
  },
  {
   "cell_type": "markdown",
   "metadata": {},
   "source": [
    "# Later you can load json and create model"
   ]
  },
  {
   "cell_type": "code",
   "execution_count": null,
   "metadata": {
    "collapsed": true
   },
   "outputs": [],
   "source": [
    "model3 = tf.keras.models.load_model(\"partly_trained.model\")\n",
    "val_loss, val_acc = model3.evaluate(x_test, y_test)\n",
    "print(val_loss, val_acc)"
   ]
  },
  {
   "cell_type": "markdown",
   "metadata": {},
   "source": [
    "# What to do next?\n",
    "- study available models in layering\n",
    "- study techniques to check whether model is overfitting or not? -keras's inbuilt functions, tenserflow's own functions\n",
    "- study techniques and tools used for image, video preprocessing (toughest part in Deep Learning)"
   ]
  },
  {
   "cell_type": "code",
   "execution_count": null,
   "metadata": {
    "collapsed": true
   },
   "outputs": [],
   "source": []
  },
  {
   "cell_type": "code",
   "execution_count": null,
   "metadata": {
    "collapsed": true
   },
   "outputs": [],
   "source": []
  }
 ],
 "metadata": {
  "kernelspec": {
   "display_name": "Python 3",
   "language": "python",
   "name": "python3"
  },
  "language_info": {
   "codemirror_mode": {
    "name": "ipython",
    "version": 3
   },
   "file_extension": ".py",
   "mimetype": "text/x-python",
   "name": "python",
   "nbconvert_exporter": "python",
   "pygments_lexer": "ipython3",
   "version": "3.6.3"
  }
 },
 "nbformat": 4,
 "nbformat_minor": 2
}
